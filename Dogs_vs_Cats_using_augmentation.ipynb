{
  "nbformat": 4,
  "nbformat_minor": 0,
  "metadata": {
    "colab": {
      "name": "Dogs-vs-Cats-using-augmentation.ipynb",
      "provenance": [],
      "collapsed_sections": [],
      "authorship_tag": "ABX9TyPun4pWyvsBjsSBajGa2W/q",
      "include_colab_link": true
    },
    "kernelspec": {
      "name": "python3",
      "display_name": "Python 3"
    },
    "language_info": {
      "name": "python"
    },
    "accelerator": "GPU"
  },
  "cells": [
    {
      "cell_type": "markdown",
      "metadata": {
        "id": "view-in-github",
        "colab_type": "text"
      },
      "source": [
        "<a href=\"https://colab.research.google.com/github/1zulkifel/AI_Q_3/blob/main/Dogs_vs_Cats_using_augmentation.ipynb\" target=\"_parent\"><img src=\"https://colab.research.google.com/assets/colab-badge.svg\" alt=\"Open In Colab\"/></a>"
      ]
    },
    {
      "cell_type": "markdown",
      "metadata": {
        "id": "FQg4xV2BY8JF"
      },
      "source": [
        "we will discuss how to classify images into pictures of cats or pictures of dogs. We'll build an image classifier using tf.keras.Sequential model and load data using tf.keras.preprocessing.image.ImageDataGenerator.\n",
        "\n",
        "Specific concepts that will be covered: In the process, we will build practical experience and develop intuition around the following concepts\n",
        "\n",
        "Building data input pipelines using the tf.keras.preprocessing.image.ImageDataGenerator class — How can we efficiently work with data on disk to interface with our model? Overfitting - what is it, how to identify it, and how can we prevent it? Data Augmentation and Dropout - Key techniques to fight overfitting in computer vision tasks that we will incorporate into our data pipeline and image classifier model. We will follow the general machine learning workflow: Examine and understand data Build an input pipeline Build our model Train our model Test our model Improve our model/Repeat the proces"
      ]
    },
    {
      "cell_type": "code",
      "metadata": {
        "id": "NQAoYd-CY-YU"
      },
      "source": [
        "import tensorflow as tf\n",
        "from tensorflow.keras.preprocessing.image import ImageDataGenerator\n",
        "import os\n",
        "import numpy as np\n",
        "import matplotlib.pyplot as plt"
      ],
      "execution_count": 3,
      "outputs": []
    },
    {
      "cell_type": "code",
      "metadata": {
        "colab": {
          "base_uri": "https://localhost:8080/"
        },
        "id": "ydVxbMWDZhFT",
        "outputId": "8565eec3-6d71-4f2c-e25e-50e674bdc7ff"
      },
      "source": [
        "# Dowloading data\n",
        "_URL = 'https://storage.googleapis.com/mledu-datasets/cats_and_dogs_filtered.zip'\n",
        "\n",
        "zip_dir = tf.keras.utils.get_file('cats_and_dogs_filterted.zip', origin=_URL, extract=True)"
      ],
      "execution_count": 4,
      "outputs": [
        {
          "output_type": "stream",
          "text": [
            "Downloading data from https://storage.googleapis.com/mledu-datasets/cats_and_dogs_filtered.zip\n",
            "68608000/68606236 [==============================] - 0s 0us/step\n"
          ],
          "name": "stdout"
        }
      ]
    },
    {
      "cell_type": "markdown",
      "metadata": {
        "id": "31nERZJjZ8pN"
      },
      "source": [
        "cats_and_dogs_filtered\n",
        "|__ train\n",
        "    |______ cats: [cat.0.jpg, cat.1.jpg, cat.2.jpg ....]\n",
        "    |______ dogs: [dog.0.jpg, dog.1.jpg, dog.2.jpg ...]\n",
        "\n",
        "    \n",
        "|__ validation\n",
        "    |______ cats: [cat.2000.jpg, cat.2001.jpg, cat.2002.jpg ....]\n",
        "    |______ dogs: [dog.2000.jpg, dog.2001.jpg, dog.2002.jpg ...]"
      ]
    },
    {
      "cell_type": "code",
      "metadata": {
        "id": "wDOcwCZOZ-iK"
      },
      "source": [
        "base_dir = os.path.join(os.path.dirname(zip_dir), 'cats_and_dogs_filtered')\n",
        "train_dir = os.path.join(base_dir, 'train')\n",
        "validation_dir = os.path.join(base_dir, 'validation')"
      ],
      "execution_count": 5,
      "outputs": []
    },
    {
      "cell_type": "code",
      "metadata": {
        "id": "U4KX6SDUaO9G"
      },
      "source": [
        "train_cats_dir = os.path.join(train_dir, 'cats')  # directory with our training cat pictures\n",
        "train_dogs_dir = os.path.join(train_dir, 'dogs')  # directory with our training dog pictures\n",
        "validation_cats_dir = os.path.join(validation_dir, 'cats')  # directory with our validation cat pictures\n",
        "validation_dogs_dir = os.path.join(validation_dir, 'dogs')  # directory with our validation dog pictures"
      ],
      "execution_count": 6,
      "outputs": []
    },
    {
      "cell_type": "code",
      "metadata": {
        "id": "Nf9evuETaSud"
      },
      "source": [
        "num_cats_tr = len(os.listdir(train_cats_dir))\n",
        "num_dogs_tr = len(os.listdir(train_dogs_dir))\n",
        "\n",
        "num_cats_val = len(os.listdir(validation_cats_dir))\n",
        "num_dogs_val = len(os.listdir(validation_dogs_dir))\n",
        "\n",
        "total_train = num_cats_tr + num_dogs_tr\n",
        "total_val = num_cats_val + num_dogs_val"
      ],
      "execution_count": 7,
      "outputs": []
    },
    {
      "cell_type": "code",
      "metadata": {
        "colab": {
          "base_uri": "https://localhost:8080/"
        },
        "id": "QuQ0i4LTaatg",
        "outputId": "433e1347-fec0-46c0-e47b-5243912bfd4d"
      },
      "source": [
        "print('total training cat images:', num_cats_tr)\n",
        "print('total training dog images:', num_dogs_tr)\n",
        "\n",
        "print('total validation cat images:', num_cats_val)\n",
        "print('total validation dog images:', num_dogs_val)\n",
        "print(\"--\")\n",
        "print(\"Total training images:\", total_train)\n",
        "print(\"Total validation images:\", total_val)"
      ],
      "execution_count": 8,
      "outputs": [
        {
          "output_type": "stream",
          "text": [
            "total training cat images: 1000\n",
            "total training dog images: 1000\n",
            "total validation cat images: 500\n",
            "total validation dog images: 500\n",
            "--\n",
            "Total training images: 2000\n",
            "Total validation images: 1000\n"
          ],
          "name": "stdout"
        }
      ]
    },
    {
      "cell_type": "code",
      "metadata": {
        "id": "h2AO-jP2adIh"
      },
      "source": [
        "BATCH_SIZE = 100\n",
        "IMG_SHAPE  = 150 # Our training data consists of images with width of 150 pixels and height of 150 pixels"
      ],
      "execution_count": 9,
      "outputs": []
    },
    {
      "cell_type": "markdown",
      "metadata": {
        "id": "C4WQL7RKavyJ"
      },
      "source": [
        "<font color='red'>Data Augmentation<font/>\n",
        "\n",
        "Overfitting often occurs when we have a small number of training examples. One way to fix this problem is to augment our dataset so that it has sufficient number and variety of training examples. Data augmentation takes the approach of generating more training data from existing training samples, by augmenting the samples through random transformations that yield believable-looking images. The goal is that at training time, your model will never see the exact same picture twice. This exposes the model to more aspects of the data, allowing it to generalize better.\n",
        "\n",
        "In tf.keras we can implement this using the same ImageDataGenerator . We can simply pass different transformations we would want to our dataset as a form of arguments and it will take care of applying it to the dataset during our training process.\n",
        "\n",
        "To start off, let's define a function that can display an image, so we can see the type of augmentation that has been performed. Then, we'll look at specific augmentations that we'll use during training."
      ]
    },
    {
      "cell_type": "code",
      "metadata": {
        "colab": {
          "base_uri": "https://localhost:8080/"
        },
        "id": "zVzJRYyicd9z",
        "outputId": "94ba8ad8-fb21-465e-fbd4-e774ff300438"
      },
      "source": [
        "image_gen_train = ImageDataGenerator(\n",
        "      rescale=1./255,\n",
        "      rotation_range=40,\n",
        "      width_shift_range=0.2,\n",
        "      height_shift_range=0.2,\n",
        "      shear_range=0.2,\n",
        "      zoom_range=0.2,\n",
        "      horizontal_flip=True,\n",
        "      fill_mode='nearest')\n",
        "\n",
        "train_data_gen = image_gen_train.flow_from_directory(batch_size=BATCH_SIZE,\n",
        "                                                     directory=train_dir,\n",
        "                                                     shuffle=True,\n",
        "                                                     target_size=(IMG_SHAPE,IMG_SHAPE),\n",
        "                                                     class_mode='binary')"
      ],
      "execution_count": 10,
      "outputs": [
        {
          "output_type": "stream",
          "text": [
            "Found 2000 images belonging to 2 classes.\n"
          ],
          "name": "stdout"
        }
      ]
    },
    {
      "cell_type": "code",
      "metadata": {
        "id": "LWP0GONCc6ev"
      },
      "source": [
        "#augmented_images = [train_data_gen[0][0][0] for i in range(5)]\n",
        "#plotImages(augmented_images)"
      ],
      "execution_count": 12,
      "outputs": []
    },
    {
      "cell_type": "code",
      "metadata": {
        "colab": {
          "base_uri": "https://localhost:8080/"
        },
        "id": "9NJqgJTWdXPT",
        "outputId": "cf80b102-e2fe-4e2e-baa9-cdd420780453"
      },
      "source": [
        "image_gen_val = ImageDataGenerator(rescale=1./255)\n",
        "\n",
        "val_data_gen = image_gen_val.flow_from_directory(batch_size=BATCH_SIZE,\n",
        "                                                 directory=validation_dir,\n",
        "                                                 target_size=(IMG_SHAPE, IMG_SHAPE),\n",
        "                                                 class_mode='binary')"
      ],
      "execution_count": 13,
      "outputs": [
        {
          "output_type": "stream",
          "text": [
            "Found 1000 images belonging to 2 classes.\n"
          ],
          "name": "stdout"
        }
      ]
    },
    {
      "cell_type": "markdown",
      "metadata": {
        "id": "gyHdiwmhd6cX"
      },
      "source": [
        "<font color='red'>Define the model<font/>\n",
        "\n",
        "The model consists of four convolution blocks with a max pool layer in each of them.\n",
        "\n",
        "Before the final Dense layers, we're also applying a Dropout probability of 0.5. It means that 50% of the values coming into the Dropout layer will be set to zero. This helps to prevent overfitting.\n",
        "\n",
        "Then we have a fully connected layer with 512 units, with a relu activation function. The model will output class probabilities for two classes — dogs and cats — using softmax."
      ]
    },
    {
      "cell_type": "code",
      "metadata": {
        "id": "nkr3qx15eBs-"
      },
      "source": [
        "model = tf.keras.models.Sequential([\n",
        "    tf.keras.layers.Conv2D(32, (3,3), activation='relu', input_shape=(150, 150, 3)),\n",
        "    tf.keras.layers.MaxPooling2D(2, 2),\n",
        "\n",
        "    tf.keras.layers.Conv2D(64, (3,3), activation='relu'),\n",
        "    tf.keras.layers.MaxPooling2D(2,2),\n",
        "\n",
        "    tf.keras.layers.Conv2D(128, (3,3), activation='relu'),\n",
        "    tf.keras.layers.MaxPooling2D(2,2),\n",
        "\n",
        "    tf.keras.layers.Conv2D(128, (3,3), activation='relu'),\n",
        "    tf.keras.layers.MaxPooling2D(2,2),\n",
        "\n",
        "    tf.keras.layers.Dropout(0.5),\n",
        "    tf.keras.layers.Flatten(),\n",
        "    tf.keras.layers.Dense(512, activation='relu'),\n",
        "    tf.keras.layers.Dense(2)\n",
        "])"
      ],
      "execution_count": 14,
      "outputs": []
    },
    {
      "cell_type": "markdown",
      "metadata": {
        "id": "4H_WT2ARebz5"
      },
      "source": [
        "<font color='red'>Compiling the model<font/>\n",
        "\n",
        "As usual, we will use the adam optimizer. Since we output a softmax categorization, we'll use sparse_categorical_crossentropy as the loss function. We would also like to look at training and validation accuracy on each epoch as we train our network, so we are passing in the metrics argument"
      ]
    },
    {
      "cell_type": "code",
      "metadata": {
        "id": "FCWGbJmGejJ0"
      },
      "source": [
        "model.compile(optimizer='adam',\n",
        "              loss=tf.keras.losses.SparseCategoricalCrossentropy(from_logits=True),\n",
        "              metrics=['accuracy'])"
      ],
      "execution_count": 15,
      "outputs": []
    },
    {
      "cell_type": "markdown",
      "metadata": {
        "id": "D5APlLAne2AU"
      },
      "source": [
        "<font color='red'>Model Summary<font/>\n",
        "\n",
        "Let's look at all the layers of our network using summary method."
      ]
    },
    {
      "cell_type": "code",
      "metadata": {
        "colab": {
          "base_uri": "https://localhost:8080/"
        },
        "id": "ONP3Em1ve7ni",
        "outputId": "4685cf14-68ac-454f-bdfe-234fb4b14519"
      },
      "source": [
        "model.summary()"
      ],
      "execution_count": 16,
      "outputs": [
        {
          "output_type": "stream",
          "text": [
            "Model: \"sequential\"\n",
            "_________________________________________________________________\n",
            "Layer (type)                 Output Shape              Param #   \n",
            "=================================================================\n",
            "conv2d (Conv2D)              (None, 148, 148, 32)      896       \n",
            "_________________________________________________________________\n",
            "max_pooling2d (MaxPooling2D) (None, 74, 74, 32)        0         \n",
            "_________________________________________________________________\n",
            "conv2d_1 (Conv2D)            (None, 72, 72, 64)        18496     \n",
            "_________________________________________________________________\n",
            "max_pooling2d_1 (MaxPooling2 (None, 36, 36, 64)        0         \n",
            "_________________________________________________________________\n",
            "conv2d_2 (Conv2D)            (None, 34, 34, 128)       73856     \n",
            "_________________________________________________________________\n",
            "max_pooling2d_2 (MaxPooling2 (None, 17, 17, 128)       0         \n",
            "_________________________________________________________________\n",
            "conv2d_3 (Conv2D)            (None, 15, 15, 128)       147584    \n",
            "_________________________________________________________________\n",
            "max_pooling2d_3 (MaxPooling2 (None, 7, 7, 128)         0         \n",
            "_________________________________________________________________\n",
            "dropout (Dropout)            (None, 7, 7, 128)         0         \n",
            "_________________________________________________________________\n",
            "flatten (Flatten)            (None, 6272)              0         \n",
            "_________________________________________________________________\n",
            "dense (Dense)                (None, 512)               3211776   \n",
            "_________________________________________________________________\n",
            "dense_1 (Dense)              (None, 2)                 1026      \n",
            "=================================================================\n",
            "Total params: 3,453,634\n",
            "Trainable params: 3,453,634\n",
            "Non-trainable params: 0\n",
            "_________________________________________________________________\n"
          ],
          "name": "stdout"
        }
      ]
    },
    {
      "cell_type": "code",
      "metadata": {
        "colab": {
          "base_uri": "https://localhost:8080/"
        },
        "id": "YJDJEUicfYP-",
        "outputId": "2747e801-334b-4cd4-c32e-f1dd8813a686"
      },
      "source": [
        "#Train the model\n",
        "epochs=100\n",
        "history = model.fit_generator(\n",
        "    train_data_gen,\n",
        "    steps_per_epoch=int(np.ceil(total_train / float(BATCH_SIZE))),\n",
        "    epochs=epochs,\n",
        "    validation_data=val_data_gen,\n",
        "    validation_steps=int(np.ceil(total_val / float(BATCH_SIZE)))\n",
        ")"
      ],
      "execution_count": 17,
      "outputs": [
        {
          "output_type": "stream",
          "text": [
            "/usr/local/lib/python3.7/dist-packages/tensorflow/python/keras/engine/training.py:1844: UserWarning: `Model.fit_generator` is deprecated and will be removed in a future version. Please use `Model.fit`, which supports generators.\n",
            "  warnings.warn('`Model.fit_generator` is deprecated and '\n"
          ],
          "name": "stderr"
        },
        {
          "output_type": "stream",
          "text": [
            "Epoch 1/100\n",
            "20/20 [==============================] - 49s 785ms/step - loss: 0.7556 - accuracy: 0.4947 - val_loss: 0.6918 - val_accuracy: 0.5000\n",
            "Epoch 2/100\n",
            "20/20 [==============================] - 15s 775ms/step - loss: 0.6917 - accuracy: 0.5134 - val_loss: 0.6806 - val_accuracy: 0.5040\n",
            "Epoch 3/100\n",
            "20/20 [==============================] - 16s 782ms/step - loss: 0.6849 - accuracy: 0.5478 - val_loss: 0.6790 - val_accuracy: 0.5510\n",
            "Epoch 4/100\n",
            "20/20 [==============================] - 15s 776ms/step - loss: 0.6755 - accuracy: 0.5480 - val_loss: 0.6652 - val_accuracy: 0.5690\n",
            "Epoch 5/100\n",
            "20/20 [==============================] - 16s 784ms/step - loss: 0.6660 - accuracy: 0.5846 - val_loss: 0.6285 - val_accuracy: 0.6460\n",
            "Epoch 6/100\n",
            "20/20 [==============================] - 15s 776ms/step - loss: 0.6474 - accuracy: 0.5963 - val_loss: 0.6449 - val_accuracy: 0.6030\n",
            "Epoch 7/100\n",
            "20/20 [==============================] - 15s 773ms/step - loss: 0.6538 - accuracy: 0.5931 - val_loss: 0.6597 - val_accuracy: 0.5610\n",
            "Epoch 8/100\n",
            "20/20 [==============================] - 15s 775ms/step - loss: 0.6473 - accuracy: 0.6052 - val_loss: 0.6431 - val_accuracy: 0.6110\n",
            "Epoch 9/100\n",
            "20/20 [==============================] - 15s 773ms/step - loss: 0.6422 - accuracy: 0.6030 - val_loss: 0.6154 - val_accuracy: 0.6300\n",
            "Epoch 10/100\n",
            "20/20 [==============================] - 16s 781ms/step - loss: 0.6245 - accuracy: 0.6090 - val_loss: 0.6018 - val_accuracy: 0.6650\n",
            "Epoch 11/100\n",
            "20/20 [==============================] - 16s 779ms/step - loss: 0.6097 - accuracy: 0.6707 - val_loss: 0.5835 - val_accuracy: 0.6890\n",
            "Epoch 12/100\n",
            "20/20 [==============================] - 16s 781ms/step - loss: 0.6052 - accuracy: 0.6736 - val_loss: 0.6012 - val_accuracy: 0.6710\n",
            "Epoch 13/100\n",
            "20/20 [==============================] - 15s 773ms/step - loss: 0.6203 - accuracy: 0.6522 - val_loss: 0.5730 - val_accuracy: 0.6930\n",
            "Epoch 14/100\n",
            "20/20 [==============================] - 15s 772ms/step - loss: 0.5908 - accuracy: 0.6717 - val_loss: 0.5760 - val_accuracy: 0.6940\n",
            "Epoch 15/100\n",
            "20/20 [==============================] - 15s 777ms/step - loss: 0.5733 - accuracy: 0.7018 - val_loss: 0.5491 - val_accuracy: 0.7040\n",
            "Epoch 16/100\n",
            "20/20 [==============================] - 16s 777ms/step - loss: 0.5715 - accuracy: 0.6791 - val_loss: 0.5430 - val_accuracy: 0.7110\n",
            "Epoch 17/100\n",
            "20/20 [==============================] - 15s 769ms/step - loss: 0.5698 - accuracy: 0.6973 - val_loss: 0.5807 - val_accuracy: 0.6810\n",
            "Epoch 18/100\n",
            "20/20 [==============================] - 15s 767ms/step - loss: 0.5766 - accuracy: 0.7087 - val_loss: 0.5437 - val_accuracy: 0.7190\n",
            "Epoch 19/100\n",
            "20/20 [==============================] - 15s 768ms/step - loss: 0.5596 - accuracy: 0.7117 - val_loss: 0.5276 - val_accuracy: 0.7350\n",
            "Epoch 20/100\n",
            "20/20 [==============================] - 16s 781ms/step - loss: 0.5262 - accuracy: 0.7240 - val_loss: 0.5600 - val_accuracy: 0.7180\n",
            "Epoch 21/100\n",
            "20/20 [==============================] - 15s 773ms/step - loss: 0.5511 - accuracy: 0.7265 - val_loss: 0.5470 - val_accuracy: 0.7250\n",
            "Epoch 22/100\n",
            "20/20 [==============================] - 15s 772ms/step - loss: 0.5493 - accuracy: 0.7208 - val_loss: 0.5453 - val_accuracy: 0.7020\n",
            "Epoch 23/100\n",
            "20/20 [==============================] - 15s 770ms/step - loss: 0.5397 - accuracy: 0.7327 - val_loss: 0.5222 - val_accuracy: 0.7200\n",
            "Epoch 24/100\n",
            "20/20 [==============================] - 15s 770ms/step - loss: 0.5231 - accuracy: 0.7379 - val_loss: 0.5306 - val_accuracy: 0.7230\n",
            "Epoch 25/100\n",
            "20/20 [==============================] - 15s 774ms/step - loss: 0.5351 - accuracy: 0.7376 - val_loss: 0.5041 - val_accuracy: 0.7580\n",
            "Epoch 26/100\n",
            "20/20 [==============================] - 15s 767ms/step - loss: 0.5227 - accuracy: 0.7470 - val_loss: 0.5082 - val_accuracy: 0.7440\n",
            "Epoch 27/100\n",
            "20/20 [==============================] - 15s 770ms/step - loss: 0.5374 - accuracy: 0.7354 - val_loss: 0.5241 - val_accuracy: 0.7320\n",
            "Epoch 28/100\n",
            "20/20 [==============================] - 15s 768ms/step - loss: 0.5049 - accuracy: 0.7658 - val_loss: 0.5158 - val_accuracy: 0.7420\n",
            "Epoch 29/100\n",
            "20/20 [==============================] - 15s 772ms/step - loss: 0.5283 - accuracy: 0.7348 - val_loss: 0.5651 - val_accuracy: 0.6900\n",
            "Epoch 30/100\n",
            "20/20 [==============================] - 15s 766ms/step - loss: 0.5475 - accuracy: 0.7191 - val_loss: 0.5198 - val_accuracy: 0.7380\n",
            "Epoch 31/100\n",
            "20/20 [==============================] - 15s 776ms/step - loss: 0.5150 - accuracy: 0.7427 - val_loss: 0.4920 - val_accuracy: 0.7550\n",
            "Epoch 32/100\n",
            "20/20 [==============================] - 15s 773ms/step - loss: 0.5132 - accuracy: 0.7605 - val_loss: 0.5283 - val_accuracy: 0.7350\n",
            "Epoch 33/100\n",
            "20/20 [==============================] - 15s 773ms/step - loss: 0.5095 - accuracy: 0.7448 - val_loss: 0.4885 - val_accuracy: 0.7510\n",
            "Epoch 34/100\n",
            "20/20 [==============================] - 15s 771ms/step - loss: 0.5054 - accuracy: 0.7364 - val_loss: 0.4814 - val_accuracy: 0.7620\n",
            "Epoch 35/100\n",
            "20/20 [==============================] - 15s 778ms/step - loss: 0.4851 - accuracy: 0.7742 - val_loss: 0.4997 - val_accuracy: 0.7490\n",
            "Epoch 36/100\n",
            "20/20 [==============================] - 15s 770ms/step - loss: 0.4914 - accuracy: 0.7602 - val_loss: 0.5124 - val_accuracy: 0.7470\n",
            "Epoch 37/100\n",
            "20/20 [==============================] - 15s 775ms/step - loss: 0.5138 - accuracy: 0.7449 - val_loss: 0.5557 - val_accuracy: 0.7190\n",
            "Epoch 38/100\n",
            "20/20 [==============================] - 15s 770ms/step - loss: 0.5037 - accuracy: 0.7638 - val_loss: 0.4814 - val_accuracy: 0.7580\n",
            "Epoch 39/100\n",
            "20/20 [==============================] - 15s 776ms/step - loss: 0.4881 - accuracy: 0.7672 - val_loss: 0.4768 - val_accuracy: 0.7660\n",
            "Epoch 40/100\n",
            "20/20 [==============================] - 15s 771ms/step - loss: 0.4599 - accuracy: 0.7944 - val_loss: 0.4676 - val_accuracy: 0.7890\n",
            "Epoch 41/100\n",
            "20/20 [==============================] - 15s 772ms/step - loss: 0.4665 - accuracy: 0.7896 - val_loss: 0.4762 - val_accuracy: 0.7660\n",
            "Epoch 42/100\n",
            "20/20 [==============================] - 15s 772ms/step - loss: 0.4384 - accuracy: 0.7882 - val_loss: 0.4549 - val_accuracy: 0.7870\n",
            "Epoch 43/100\n",
            "20/20 [==============================] - 15s 774ms/step - loss: 0.4606 - accuracy: 0.7895 - val_loss: 0.4626 - val_accuracy: 0.7880\n",
            "Epoch 44/100\n",
            "20/20 [==============================] - 16s 795ms/step - loss: 0.4588 - accuracy: 0.7756 - val_loss: 0.4759 - val_accuracy: 0.7650\n",
            "Epoch 45/100\n",
            "20/20 [==============================] - 16s 787ms/step - loss: 0.4464 - accuracy: 0.7912 - val_loss: 0.4695 - val_accuracy: 0.7660\n",
            "Epoch 46/100\n",
            "20/20 [==============================] - 16s 803ms/step - loss: 0.4269 - accuracy: 0.8184 - val_loss: 0.4427 - val_accuracy: 0.7750\n",
            "Epoch 47/100\n",
            "20/20 [==============================] - 15s 776ms/step - loss: 0.4207 - accuracy: 0.8083 - val_loss: 0.4337 - val_accuracy: 0.7910\n",
            "Epoch 48/100\n",
            "20/20 [==============================] - 15s 774ms/step - loss: 0.4176 - accuracy: 0.8036 - val_loss: 0.4775 - val_accuracy: 0.7680\n",
            "Epoch 49/100\n",
            "20/20 [==============================] - 15s 770ms/step - loss: 0.4061 - accuracy: 0.8117 - val_loss: 0.4367 - val_accuracy: 0.7940\n",
            "Epoch 50/100\n",
            "20/20 [==============================] - 15s 775ms/step - loss: 0.4252 - accuracy: 0.8125 - val_loss: 0.4610 - val_accuracy: 0.7720\n",
            "Epoch 51/100\n",
            "20/20 [==============================] - 15s 771ms/step - loss: 0.4143 - accuracy: 0.8112 - val_loss: 0.4792 - val_accuracy: 0.7810\n",
            "Epoch 52/100\n",
            "20/20 [==============================] - 15s 772ms/step - loss: 0.4132 - accuracy: 0.8003 - val_loss: 0.4393 - val_accuracy: 0.7980\n",
            "Epoch 53/100\n",
            "20/20 [==============================] - 15s 767ms/step - loss: 0.4172 - accuracy: 0.8031 - val_loss: 0.4273 - val_accuracy: 0.8000\n",
            "Epoch 54/100\n",
            "20/20 [==============================] - 15s 776ms/step - loss: 0.4395 - accuracy: 0.7931 - val_loss: 0.4320 - val_accuracy: 0.8040\n",
            "Epoch 55/100\n",
            "20/20 [==============================] - 15s 774ms/step - loss: 0.3857 - accuracy: 0.8343 - val_loss: 0.4260 - val_accuracy: 0.8020\n",
            "Epoch 56/100\n",
            "20/20 [==============================] - 16s 779ms/step - loss: 0.3973 - accuracy: 0.8247 - val_loss: 0.5357 - val_accuracy: 0.7550\n",
            "Epoch 57/100\n",
            "20/20 [==============================] - 16s 779ms/step - loss: 0.4159 - accuracy: 0.8009 - val_loss: 0.4522 - val_accuracy: 0.7860\n",
            "Epoch 58/100\n",
            "20/20 [==============================] - 16s 784ms/step - loss: 0.3896 - accuracy: 0.8312 - val_loss: 0.4517 - val_accuracy: 0.7950\n",
            "Epoch 59/100\n",
            "20/20 [==============================] - 15s 777ms/step - loss: 0.3957 - accuracy: 0.8150 - val_loss: 0.4819 - val_accuracy: 0.7710\n",
            "Epoch 60/100\n",
            "20/20 [==============================] - 15s 776ms/step - loss: 0.4051 - accuracy: 0.8285 - val_loss: 0.4155 - val_accuracy: 0.8080\n",
            "Epoch 61/100\n",
            "20/20 [==============================] - 16s 778ms/step - loss: 0.3773 - accuracy: 0.8265 - val_loss: 0.4048 - val_accuracy: 0.8110\n",
            "Epoch 62/100\n",
            "20/20 [==============================] - 16s 778ms/step - loss: 0.3853 - accuracy: 0.8200 - val_loss: 0.4200 - val_accuracy: 0.8030\n",
            "Epoch 63/100\n",
            "20/20 [==============================] - 15s 774ms/step - loss: 0.3473 - accuracy: 0.8458 - val_loss: 0.4224 - val_accuracy: 0.7940\n",
            "Epoch 64/100\n",
            "20/20 [==============================] - 15s 774ms/step - loss: 0.3968 - accuracy: 0.8147 - val_loss: 0.4318 - val_accuracy: 0.7960\n",
            "Epoch 65/100\n",
            "20/20 [==============================] - 15s 776ms/step - loss: 0.3393 - accuracy: 0.8582 - val_loss: 0.4130 - val_accuracy: 0.8090\n",
            "Epoch 66/100\n",
            "20/20 [==============================] - 15s 772ms/step - loss: 0.3974 - accuracy: 0.8286 - val_loss: 0.5061 - val_accuracy: 0.7630\n",
            "Epoch 67/100\n",
            "20/20 [==============================] - 15s 777ms/step - loss: 0.3628 - accuracy: 0.8411 - val_loss: 0.4234 - val_accuracy: 0.7930\n",
            "Epoch 68/100\n",
            "20/20 [==============================] - 15s 772ms/step - loss: 0.3376 - accuracy: 0.8593 - val_loss: 0.4023 - val_accuracy: 0.8150\n",
            "Epoch 69/100\n",
            "20/20 [==============================] - 15s 772ms/step - loss: 0.3635 - accuracy: 0.8454 - val_loss: 0.4900 - val_accuracy: 0.7930\n",
            "Epoch 70/100\n",
            "20/20 [==============================] - 15s 773ms/step - loss: 0.3685 - accuracy: 0.8298 - val_loss: 0.4447 - val_accuracy: 0.7680\n",
            "Epoch 71/100\n",
            "20/20 [==============================] - 15s 768ms/step - loss: 0.3832 - accuracy: 0.8289 - val_loss: 0.4234 - val_accuracy: 0.8050\n",
            "Epoch 72/100\n",
            "20/20 [==============================] - 15s 774ms/step - loss: 0.3472 - accuracy: 0.8461 - val_loss: 0.4222 - val_accuracy: 0.8020\n",
            "Epoch 73/100\n",
            "20/20 [==============================] - 15s 771ms/step - loss: 0.3207 - accuracy: 0.8622 - val_loss: 0.4273 - val_accuracy: 0.8090\n",
            "Epoch 74/100\n",
            "20/20 [==============================] - 15s 770ms/step - loss: 0.3409 - accuracy: 0.8523 - val_loss: 0.4138 - val_accuracy: 0.8110\n",
            "Epoch 75/100\n",
            "20/20 [==============================] - 15s 768ms/step - loss: 0.3674 - accuracy: 0.8413 - val_loss: 0.4258 - val_accuracy: 0.8040\n",
            "Epoch 76/100\n",
            "20/20 [==============================] - 15s 773ms/step - loss: 0.3569 - accuracy: 0.8329 - val_loss: 0.3835 - val_accuracy: 0.8200\n",
            "Epoch 77/100\n",
            "20/20 [==============================] - 15s 776ms/step - loss: 0.3452 - accuracy: 0.8452 - val_loss: 0.3862 - val_accuracy: 0.8150\n",
            "Epoch 78/100\n",
            "20/20 [==============================] - 15s 766ms/step - loss: 0.3014 - accuracy: 0.8673 - val_loss: 0.4054 - val_accuracy: 0.8180\n",
            "Epoch 79/100\n",
            "20/20 [==============================] - 15s 755ms/step - loss: 0.3454 - accuracy: 0.8572 - val_loss: 0.3762 - val_accuracy: 0.8300\n",
            "Epoch 80/100\n",
            "20/20 [==============================] - 15s 762ms/step - loss: 0.3396 - accuracy: 0.8514 - val_loss: 0.4109 - val_accuracy: 0.8020\n",
            "Epoch 81/100\n",
            "20/20 [==============================] - 15s 755ms/step - loss: 0.3459 - accuracy: 0.8480 - val_loss: 0.4140 - val_accuracy: 0.8160\n",
            "Epoch 82/100\n",
            "20/20 [==============================] - 15s 760ms/step - loss: 0.3520 - accuracy: 0.8497 - val_loss: 0.3874 - val_accuracy: 0.8110\n",
            "Epoch 83/100\n",
            "20/20 [==============================] - 15s 756ms/step - loss: 0.3491 - accuracy: 0.8538 - val_loss: 0.4117 - val_accuracy: 0.8080\n",
            "Epoch 84/100\n",
            "20/20 [==============================] - 15s 759ms/step - loss: 0.3238 - accuracy: 0.8696 - val_loss: 0.4019 - val_accuracy: 0.8110\n",
            "Epoch 85/100\n",
            "20/20 [==============================] - 15s 754ms/step - loss: 0.3208 - accuracy: 0.8660 - val_loss: 0.3796 - val_accuracy: 0.8170\n",
            "Epoch 86/100\n",
            "20/20 [==============================] - 15s 761ms/step - loss: 0.2953 - accuracy: 0.8752 - val_loss: 0.3666 - val_accuracy: 0.8260\n",
            "Epoch 87/100\n",
            "20/20 [==============================] - 15s 754ms/step - loss: 0.3312 - accuracy: 0.8720 - val_loss: 0.4171 - val_accuracy: 0.8100\n",
            "Epoch 88/100\n",
            "20/20 [==============================] - 15s 755ms/step - loss: 0.2947 - accuracy: 0.8727 - val_loss: 0.4044 - val_accuracy: 0.8170\n",
            "Epoch 89/100\n",
            "20/20 [==============================] - 15s 761ms/step - loss: 0.2881 - accuracy: 0.8799 - val_loss: 0.3782 - val_accuracy: 0.8340\n",
            "Epoch 90/100\n",
            "20/20 [==============================] - 15s 758ms/step - loss: 0.2963 - accuracy: 0.8770 - val_loss: 0.4172 - val_accuracy: 0.8220\n",
            "Epoch 91/100\n",
            "20/20 [==============================] - 15s 761ms/step - loss: 0.2674 - accuracy: 0.8907 - val_loss: 0.4417 - val_accuracy: 0.8030\n",
            "Epoch 92/100\n",
            "20/20 [==============================] - 15s 756ms/step - loss: 0.3088 - accuracy: 0.8713 - val_loss: 0.4221 - val_accuracy: 0.8280\n",
            "Epoch 93/100\n",
            "20/20 [==============================] - 15s 759ms/step - loss: 0.2832 - accuracy: 0.8767 - val_loss: 0.3824 - val_accuracy: 0.8370\n",
            "Epoch 94/100\n",
            "20/20 [==============================] - 15s 758ms/step - loss: 0.3138 - accuracy: 0.8594 - val_loss: 0.3559 - val_accuracy: 0.8400\n",
            "Epoch 95/100\n",
            "20/20 [==============================] - 15s 763ms/step - loss: 0.2651 - accuracy: 0.8982 - val_loss: 0.4163 - val_accuracy: 0.8200\n",
            "Epoch 96/100\n",
            "20/20 [==============================] - 15s 753ms/step - loss: 0.2986 - accuracy: 0.8675 - val_loss: 0.3878 - val_accuracy: 0.8430\n",
            "Epoch 97/100\n",
            "20/20 [==============================] - 15s 763ms/step - loss: 0.2666 - accuracy: 0.8885 - val_loss: 0.3979 - val_accuracy: 0.8400\n",
            "Epoch 98/100\n",
            "20/20 [==============================] - 15s 759ms/step - loss: 0.2831 - accuracy: 0.8717 - val_loss: 0.3902 - val_accuracy: 0.8280\n",
            "Epoch 99/100\n",
            "20/20 [==============================] - 15s 758ms/step - loss: 0.2780 - accuracy: 0.8734 - val_loss: 0.3767 - val_accuracy: 0.8240\n",
            "Epoch 100/100\n",
            "20/20 [==============================] - 15s 760ms/step - loss: 0.2650 - accuracy: 0.8851 - val_loss: 0.4119 - val_accuracy: 0.8170\n"
          ],
          "name": "stdout"
        }
      ]
    },
    {
      "cell_type": "code",
      "metadata": {
        "id": "JCV1PVADnhMp"
      },
      "source": [
        "model.save('Dogs_vs_Cats.h5')"
      ],
      "execution_count": 20,
      "outputs": []
    },
    {
      "cell_type": "code",
      "metadata": {
        "colab": {
          "base_uri": "https://localhost:8080/",
          "height": 499
        },
        "id": "lUtaM7xkfgx2",
        "outputId": "4427892c-b2dc-43cc-fec0-6727c54c418e"
      },
      "source": [
        "#visualization\n",
        "acc = history.history['accuracy']\n",
        "val_acc = history.history['val_accuracy']\n",
        "\n",
        "loss = history.history['loss']\n",
        "val_loss = history.history['val_loss']\n",
        "\n",
        "epochs_range = range(epochs)\n",
        "\n",
        "plt.figure(figsize=(8, 8))\n",
        "plt.subplot(1, 2, 1)\n",
        "plt.plot(epochs_range, acc, label='Training Accuracy')\n",
        "plt.plot(epochs_range, val_acc, label='Validation Accuracy')\n",
        "plt.legend(loc='lower right')\n",
        "plt.title('Training and Validation Accuracy')\n",
        "\n",
        "plt.subplot(1, 2, 2)\n",
        "plt.plot(epochs_range, loss, label='Training Loss')\n",
        "plt.plot(epochs_range, val_loss, label='Validation Loss')\n",
        "plt.legend(loc='upper right')\n",
        "plt.title('Training and Validation Loss')\n",
        "plt.show()"
      ],
      "execution_count": 19,
      "outputs": [
        {
          "output_type": "display_data",
          "data": {
            "image/png": "[encoded data removed]",
            "text/plain": [
              "<Figure size 576x576 with 2 Axes>"
            ]
          },
          "metadata": {
            "tags": [],
            "needs_background": "light"
          }
        }
      ]
    },
    {
      "cell_type": "code",
      "metadata": {
        "colab": {
          "base_uri": "https://localhost:8080/",
          "height": 545
        },
        "id": "asdtGhD3npus",
        "outputId": "2fb9ea13-adde-4fae-e3c1-b567d22ac522"
      },
      "source": [
        "import matplotlib.pyplot as plt\n",
        "acc = history.history['accuracy']\n",
        "val_acc = history.history['val_accuracy']\n",
        "loss = history.history['loss']\n",
        "val_loss = history.history['val_loss']\n",
        "\n",
        "\n",
        "\n",
        "\n",
        "\n",
        "\n",
        "epochs = range(1, len(acc) + 1)\n",
        "plt.plot(epochs, acc, 'bo', label='Training acc')\n",
        "plt.plot(epochs, val_acc, 'b', label='Validation acc')\n",
        "plt.title('Training and validation accuracy')\n",
        "plt.legend()\n",
        "plt.figure()\n",
        "plt.plot(epochs, loss, 'bo', label='Training loss')\n",
        "plt.plot(epochs, val_loss, 'b', label='Validation loss')\n",
        "plt.title('Training and validation loss')\n",
        "plt.legend()\n",
        "plt.show()"
      ],
      "execution_count": 22,
      "outputs": [
        {
          "output_type": "display_data",
          "data": {
            "image/png": "[encoded data removed]",
            "text/plain": [
              "<Figure size 432x288 with 1 Axes>"
            ]
          },
          "metadata": {
            "tags": [],
            "needs_background": "light"
          }
        },
        {
          "output_type": "display_data",
          "data": {
            "image/png": "[encoded data removed]",
            "text/plain": [
              "<Figure size 432x288 with 1 Axes>"
            ]
          },
          "metadata": {
            "tags": [],
            "needs_background": "light"
          }
        }
      ]
    },
    {
      "cell_type": "code",
      "metadata": {
        "id": "IRzV4LiXpnYE"
      },
      "source": [
        ""
      ],
      "execution_count": null,
      "outputs": []
    }
  ]
}